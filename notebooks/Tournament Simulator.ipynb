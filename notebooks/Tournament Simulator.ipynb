{
 "cells": [
  {
   "cell_type": "markdown",
   "metadata": {},
   "source": [
    "# Tournament Simulator\n",
    "#This script will simulate how my models perform given multiple simulations through a tournement bracket"
   ]
  },
  {
   "cell_type": "code",
   "execution_count": 1,
   "metadata": {
    "collapsed": false
   },
   "outputs": [
    {
     "name": "stderr",
     "output_type": "stream",
     "text": [
      "//anaconda/lib/python2.7/site-packages/pandas/computation/__init__.py:19: UserWarning: The installed version of numexpr 2.4.4 is not supported in pandas and will be not be used\n",
      "\n",
      "  UserWarning)\n"
     ]
    }
   ],
   "source": [
    "# Import packages\n",
    "import pandas as pd\n",
    "import numpy as np\n",
    "import os, sys\n",
    "\n",
    "#Import other files\n",
    "raw_path = os.path.join('..', 'data', 'raw')\n",
    "proc_path = os.path.join('..', 'data', 'processed')\n",
    "sys.path.append(os.path.join('..', 'src'))"
   ]
  },
  {
   "cell_type": "code",
   "execution_count": 2,
   "metadata": {
    "collapsed": true
   },
   "outputs": [],
   "source": [
    "# Makes dataset of actual outcomes from tournament"
   ]
  },
  {
   "cell_type": "code",
   "execution_count": 3,
   "metadata": {
    "collapsed": true
   },
   "outputs": [],
   "source": [
    "# Reads in data\n",
    "seeds = pd.read_csv(os.path.join(raw_path, 'TourneySeeds.csv'))\n",
    "slots = pd.read_csv(os.path.join(raw_path, 'TourneySlots.csv'))\n",
    "results = pd.read_csv(os.path.join(raw_path, 'TourneyCompactResults.csv'))\n",
    "\n",
    "#Adds round info to data\n",
    "slots['Round'] = ['R0' if x[0:1] in ['W', 'X', 'Y', 'Z'] else x[0:2] for x in slots['Slot']]"
   ]
  },
  {
   "cell_type": "code",
   "execution_count": 4,
   "metadata": {
    "collapsed": true
   },
   "outputs": [],
   "source": [
    "#Method for creating round 0 games\n",
    "def create_round_0(slots, seeds):\n",
    "    #Adds Round 0 winners\n",
    "    slots_0 = slots[slots['Round']=='R0']\n",
    "\n",
    "    #joins slots with team names\n",
    "    slots_teams_0 = slots_0.merge(seeds, left_on=['Strongseed', 'Season'], right_on=['Seed', 'Season'], how='left')\n",
    "    slots_teams_0 = slots_teams_0.rename(index=str, columns={'Team': 'StrongTeam'}).drop('Seed', 1)\n",
    "\n",
    "    slots_teams_0 = slots_teams_0.merge(seeds, left_on=['Weakseed', 'Season'], right_on=['Seed', 'Season'], how='left')\n",
    "    slots_teams_0 = slots_teams_0.rename(index=str, columns={'Team': 'WeakTeam'}).drop('Seed', 1)\n",
    "\n",
    "    #Adds matchup field to slots and results\n",
    "    slots_teams_0['matchup'] = [str(a)+'_'+str(b) if a<b else str(b)+'_'+str(a) for a,b in zip(slots_teams_0['StrongTeam'], slots_teams_0['WeakTeam'])]\n",
    "    results['matchup'] = [str(a)+'_'+str(b) if a<b else str(b)+'_'+str(a) for a,b in zip(results['Wteam'], results['Lteam'])]\n",
    "\n",
    "    #Adds results to round 0 games\n",
    "    slots_teams_0 = slots_teams_0.merge(results, on=['Season', 'matchup'])\n",
    "    return slots_teams_0"
   ]
  },
  {
   "cell_type": "code",
   "execution_count": 5,
   "metadata": {
    "collapsed": false
   },
   "outputs": [],
   "source": [
    "#Method for creating SS for a round\n",
    "def create_round_ss(rnd, slots_data, prev_results):\n",
    "    slots_r = slots_data[slots_data['Round']==('R'+str(rnd))]\n",
    "\n",
    "    #Adds winners from previous round to this round\n",
    "    slots_r = slots_r.merge(prev_results[['Season', 'Slot', 'Wteam']], left_on=['Strongseed', 'Season'], right_on=['Slot', 'Season'], how='left')\n",
    "    slots_r = slots_r.rename(index=str, columns={'Wteam':'StrongTeam_x'})\n",
    "    slots_r = slots_r.merge(prev_results[['Season', 'Slot', 'Wteam']], left_on=['Weakseed', 'Season'], right_on=['Slot', 'Season'], how='left')\n",
    "    slots_r = slots_r.drop(['Slot', 'Slot_y'], 1).rename(index=str, columns={'Wteam':'WeakTeam_x', 'Slot_x':'Slot'})\n",
    "\n",
    "    #joins slots with team names\n",
    "    slots_teams_r = slots_r.merge(seeds, left_on=['Strongseed', 'Season'], right_on=['Seed', 'Season'], how='left')\n",
    "    slots_teams_r = slots_teams_r.rename(index=str, columns={'Team': 'StrongTeam'}).drop('Seed', 1)\n",
    "\n",
    "    slots_teams_r = slots_teams_r.merge(seeds, left_on=['Weakseed', 'Season'], right_on=['Seed', 'Season'], how='left')\n",
    "    slots_teams_r = slots_teams_r.rename(index=str, columns={'Team': 'WeakTeam'}).drop('Seed', 1)\n",
    "\n",
    "    #combines Strongteam and Weakteam columns\n",
    "    slots_teams_r['StrongTeam'] = slots_teams_r['StrongTeam'].fillna(slots_teams_r['StrongTeam_x'])\n",
    "    slots_teams_r['WeakTeam'] = slots_teams_r['WeakTeam'].fillna(slots_teams_r['WeakTeam_x'])\n",
    "    slots_teams_r['StrongTeam'] = slots_teams_r['StrongTeam'].astype('int')\n",
    "    slots_teams_r['WeakTeam'] = slots_teams_r['WeakTeam'].astype('int')\n",
    "    slots_teams_r = slots_teams_r.drop(['StrongTeam_x', 'WeakTeam_x'], 1)\n",
    "\n",
    "    #Adds matchup column\n",
    "    slots_teams_r['matchup'] = [str(a)+'_'+str(b) if a<b else str(b)+'_'+str(a) for a,b in zip(slots_teams_r['StrongTeam'], slots_teams_r['WeakTeam'])]\n",
    "    \n",
    "    return slots_teams_r"
   ]
  },
  {
   "cell_type": "code",
   "execution_count": null,
   "metadata": {
    "collapsed": false,
    "scrolled": true
   },
   "outputs": [],
   "source": [
    "# slots_teams_1 = create_round_ss(slots, slots_teams_0)"
   ]
  },
  {
   "cell_type": "code",
   "execution_count": 6,
   "metadata": {
    "collapsed": false
   },
   "outputs": [],
   "source": [
    "#Score round\n",
    "#Function get a given SS and scores it using real data (may need round info, but matchup should suffice)\n",
    "#Also, allow a custom scorer to look at SS to determine winner\n",
    "\n",
    "def score_round(round_data, results):\n",
    "    scored_round = round_data.merge(results[['Season', 'matchup', 'Wteam']], on=['Season', 'matchup'])\n",
    "    return scored_round"
   ]
  },
  {
   "cell_type": "code",
   "execution_count": 7,
   "metadata": {
    "collapsed": false
   },
   "outputs": [],
   "source": [
    "# Simulator method\n",
    "\n",
    "def simulate_tournament(slots, seeds, results):\n",
    "    r0_data = create_round_0(slots, seeds)\n",
    "    r1_ss = create_round_ss(1, slots, r0_data)\n",
    "    r1_scored = score_round(r1_ss, results)\n",
    "    r2_ss = create_round_ss(2, slots, r1_scored)\n",
    "    r2_scored = score_round(r2_ss, results)\n",
    "    r3_ss = create_round_ss(3, slots, r2_scored)\n",
    "    r3_scored = score_round(r3_ss, results)\n",
    "    r4_ss = create_round_ss(4, slots, r3_scored)\n",
    "    r4_scored = score_round(r4_ss, results)\n",
    "    r5_ss = create_round_ss(5, slots, r4_scored)\n",
    "    r5_scored = score_round(r5_ss, results)\n",
    "    r6_ss = create_round_ss(6, slots, r5_scored)\n",
    "    r6_scored = score_round(r6_ss, results)\n",
    "    \n",
    "    return [r1_scored, r2_scored, r3_scored, r4_scored, r5_scored, r6_scored]"
   ]
  },
  {
   "cell_type": "code",
   "execution_count": 54,
   "metadata": {
    "collapsed": false,
    "scrolled": true
   },
   "outputs": [
    {
     "name": "stdout",
     "output_type": "stream",
     "text": [
      "480\n",
      "448\n"
     ]
    }
   ],
   "source": [
    "# Product predictions using scoring set\n",
    "\n",
    "#Creats SS\n",
    "ss = simulate_tournament(slots, seeds, results)[0]\n",
    "ss = ss[ss['Season']>=2002]\n",
    "features = pd.read_csv(os.path.join(proc_path, 'team_features.csv'))\n",
    "teams = pd.read_csv(os.path.join(raw_path, 'teams.csv'))\n",
    "features = features.merge(teams, left_on='Team', right_on='Team_Name').drop(['Team', 'Team_Name'],1)\n",
    "print len(ss)\n",
    "ss = ss.merge(features, left_on=['Season', 'StrongTeam'], right_on=['Season', 'Team_Id'], how='inner')\n",
    "ss = ss.merge(features, left_on=['Season', 'WeakTeam'], right_on=['Season', 'Team_Id'], suffixes=('_W', '_L'), how='inner')\n",
    "print len(ss)\n",
    "\n",
    "y = [1 if x==y else 0 for x,y in zip(ss['StrongTeam'], ss['Wteam'])]\n",
    "\n",
    "#Import a model\n",
    "import pickle\n",
    "fn = os.path.join(proc_path, 'Models', 'model_v1.p')\n",
    "game_model = pickle.load(open(fn, 'rb'))\n",
    "\n",
    "#prepares scoring sample\n",
    "ss = ss[list(game_model.input_cols)]\n",
    "\n",
    "pred_y = game_model.get_pred(ss)"
   ]
  },
  {
   "cell_type": "code",
   "execution_count": 55,
   "metadata": {
    "collapsed": false,
    "scrolled": true
   },
   "outputs": [],
   "source": [
    "pred_outcome = [1 if x>0 else 0 for x in pred_y]"
   ]
  },
  {
   "cell_type": "code",
   "execution_count": 56,
   "metadata": {
    "collapsed": false
   },
   "outputs": [],
   "source": [
    "accuracy = [1 if a==b else 0 for a,b in zip(pred_outcome, y)]"
   ]
  },
  {
   "cell_type": "code",
   "execution_count": 59,
   "metadata": {
    "collapsed": false
   },
   "outputs": [
    {
     "data": {
      "text/plain": [
       "0.25669642857142855"
      ]
     },
     "execution_count": 59,
     "metadata": {},
     "output_type": "execute_result"
    }
   ],
   "source": [
    "np.mean(accuracy)"
   ]
  },
  {
   "cell_type": "code",
   "execution_count": 60,
   "metadata": {
    "collapsed": false
   },
   "outputs": [
    {
     "data": {
      "text/plain": [
       "0.7433035714285714"
      ]
     },
     "execution_count": 60,
     "metadata": {},
     "output_type": "execute_result"
    }
   ],
   "source": [
    "np.mean(y)"
   ]
  },
  {
   "cell_type": "code",
   "execution_count": 62,
   "metadata": {
    "collapsed": false
   },
   "outputs": [
    {
     "data": {
      "text/plain": [
       "0.0"
      ]
     },
     "execution_count": 62,
     "metadata": {},
     "output_type": "execute_result"
    }
   ],
   "source": [
    "np.mean(pred_outcome)  #problem identified"
   ]
  },
  {
   "cell_type": "code",
   "execution_count": 71,
   "metadata": {
    "collapsed": false
   },
   "outputs": [],
   "source": [
    "#test of using the scoring set\n",
    "ss = pd.read_csv(os.path.join(proc_path, 'scoring_set_v1.csv'))\n",
    "y = [1 if x>y else 0 for x,y in zip(ss['Wscore'], ss['Lscore'])]\n",
    "ss = ss[list(game_model.input_cols)]\n",
    "pred = game_model.get_pred(ss)"
   ]
  },
  {
   "cell_type": "code",
   "execution_count": 73,
   "metadata": {
    "collapsed": false
   },
   "outputs": [
    {
     "data": {
      "text/plain": [
       "-294.86303568071025"
      ]
     },
     "execution_count": 73,
     "metadata": {},
     "output_type": "execute_result"
    }
   ],
   "source": [
    "np.mean(pred) #this is not right eitehr"
   ]
  },
  {
   "cell_type": "code",
   "execution_count": null,
   "metadata": {
    "collapsed": true
   },
   "outputs": [],
   "source": []
  }
 ],
 "metadata": {
  "kernelspec": {
   "display_name": "Python 2",
   "language": "python",
   "name": "python2"
  },
  "language_info": {
   "codemirror_mode": {
    "name": "ipython",
    "version": 2
   },
   "file_extension": ".py",
   "mimetype": "text/x-python",
   "name": "python",
   "nbconvert_exporter": "python",
   "pygments_lexer": "ipython2",
   "version": "2.7.12"
  }
 },
 "nbformat": 4,
 "nbformat_minor": 0
}
