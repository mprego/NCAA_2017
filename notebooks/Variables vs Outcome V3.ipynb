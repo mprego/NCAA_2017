{
 "cells": [
  {
   "cell_type": "markdown",
   "metadata": {},
   "source": [
    "# Variables vs Tournament Outcomes V3\n",
    "Similar to V2, but adds interaction effect"
   ]
  },
  {
   "cell_type": "code",
   "execution_count": 1,
   "metadata": {
    "collapsed": false
   },
   "outputs": [
    {
     "name": "stderr",
     "output_type": "stream",
     "text": [
      "//anaconda/lib/python2.7/site-packages/pandas/computation/__init__.py:19: UserWarning: The installed version of numexpr 2.4.4 is not supported in pandas and will be not be used\n",
      "\n",
      "  UserWarning)\n"
     ]
    }
   ],
   "source": [
    "#Import Packages\n",
    "import pandas as pd\n",
    "import numpy as np\n",
    "import os, sys\n",
    "import random\n",
    "\n",
    "#Import other files\n",
    "raw_path = os.path.join('..', 'data', 'raw')\n",
    "proc_path = os.path.join('..', 'data', 'processed')\n",
    "sys.path.append(os.path.join('..', 'src'))\n",
    "from viz.Correl import *\n",
    "from model.Scoring import *\n",
    "%matplotlib inline  \n",
    "%load_ext autoreload\n",
    "%autoreload 2"
   ]
  },
  {
   "cell_type": "code",
   "execution_count": 2,
   "metadata": {
    "collapsed": false
   },
   "outputs": [],
   "source": [
    "# Reads in data\n",
    "seeds = pd.read_csv(os.path.join(raw_path, 'TourneySeeds.csv'))\n",
    "slots = pd.read_csv(os.path.join(raw_path, 'TourneySlots.csv'))\n",
    "results = pd.read_csv(os.path.join(raw_path, 'TourneyCompactResults.csv'))\n",
    "features_v2 = pd.read_csv(os.path.join(proc_path, 'team_features_v2.csv'))\n",
    "\n",
    "slots = slots[slots['Season']>2003]\n",
    "seeds = seeds[seeds['Season']>2003]\n",
    "results = results[results['Season']>2003]"
   ]
  },
  {
   "cell_type": "code",
   "execution_count": 8,
   "metadata": {
    "collapsed": false
   },
   "outputs": [
    {
     "data": {
      "text/plain": [
       "[('clstr_0_A', 'clstr_0_B'),\n",
       " ('clstr_0_A', 'clstr_1_B'),\n",
       " ('clstr_0_A', 'clstr_2_B'),\n",
       " ('clstr_1_A', 'clstr_0_B'),\n",
       " ('clstr_1_A', 'clstr_1_B'),\n",
       " ('clstr_1_A', 'clstr_2_B'),\n",
       " ('clstr_2_A', 'clstr_0_B'),\n",
       " ('clstr_2_A', 'clstr_1_B'),\n",
       " ('clstr_2_A', 'clstr_2_B')]"
      ]
     },
     "execution_count": 8,
     "metadata": {},
     "output_type": "execute_result"
    }
   ],
   "source": [
    "#Makes interactions\n",
    "interactions = []\n",
    "for idx1 in range(3):\n",
    "    for idx2 in range(3):\n",
    "        interactions.append(('clstr_'+str(idx1)+'_A', 'clstr_'+str(idx2)+'_B'))\n",
    "interactions"
   ]
  },
  {
   "cell_type": "code",
   "execution_count": 9,
   "metadata": {
    "collapsed": false
   },
   "outputs": [],
   "source": [
    "#With these features, making a scoring set\n",
    "scorer_v3 = Scorer(features_v2)\n",
    "ss_v3 = scorer_v3.make_ss(results, interactions)\n",
    "\n",
    "#Creates target variable for games\n",
    "ss_v3['Outcome'] = ss_v3['Wscore'] - ss_v3['Lscore']\n",
    "ss_v3 = ss_v3[ss_v3['Season']>2003]\n",
    "ss_v3 = ss_v3.drop(['Lscore', 'Wscore', 'Season'], 1)\n",
    "\n",
    "#Outputs outcome data\n",
    "ss_v3.to_csv(os.path.join(proc_path, 'scoring_set_v3.csv'), index=False)"
   ]
  },
  {
   "cell_type": "code",
   "execution_count": 20,
   "metadata": {
    "collapsed": false
   },
   "outputs": [
    {
     "data": {
      "text/html": [
       "<div>\n",
       "<table border=\"1\" class=\"dataframe\">\n",
       "  <thead>\n",
       "    <tr style=\"text-align: right;\">\n",
       "      <th></th>\n",
       "      <th>clstr_0_A_clstr_0_B</th>\n",
       "      <th>clstr_0_A_clstr_1_B</th>\n",
       "      <th>clstr_0_A_clstr_2_B</th>\n",
       "      <th>clstr_1_A_clstr_0_B</th>\n",
       "      <th>clstr_1_A_clstr_1_B</th>\n",
       "      <th>clstr_1_A_clstr_2_B</th>\n",
       "      <th>clstr_2_A_clstr_0_B</th>\n",
       "      <th>clstr_2_A_clstr_1_B</th>\n",
       "      <th>clstr_2_A_clstr_2_B</th>\n",
       "      <th>Outcome</th>\n",
       "    </tr>\n",
       "  </thead>\n",
       "  <tbody>\n",
       "    <tr>\n",
       "      <th>0</th>\n",
       "      <td>0.0</td>\n",
       "      <td>0.0</td>\n",
       "      <td>0.0</td>\n",
       "      <td>0.0</td>\n",
       "      <td>0.0</td>\n",
       "      <td>0.0</td>\n",
       "      <td>0.0</td>\n",
       "      <td>0.0</td>\n",
       "      <td>1.0</td>\n",
       "      <td>-0.172249</td>\n",
       "    </tr>\n",
       "    <tr>\n",
       "      <th>1</th>\n",
       "      <td>0.0</td>\n",
       "      <td>0.0</td>\n",
       "      <td>0.0</td>\n",
       "      <td>0.0</td>\n",
       "      <td>0.0</td>\n",
       "      <td>0.0</td>\n",
       "      <td>0.0</td>\n",
       "      <td>1.0</td>\n",
       "      <td>0.0</td>\n",
       "      <td>2.220126</td>\n",
       "    </tr>\n",
       "    <tr>\n",
       "      <th>2</th>\n",
       "      <td>0.0</td>\n",
       "      <td>0.0</td>\n",
       "      <td>0.0</td>\n",
       "      <td>0.0</td>\n",
       "      <td>0.0</td>\n",
       "      <td>0.0</td>\n",
       "      <td>1.0</td>\n",
       "      <td>0.0</td>\n",
       "      <td>0.0</td>\n",
       "      <td>8.225806</td>\n",
       "    </tr>\n",
       "    <tr>\n",
       "      <th>3</th>\n",
       "      <td>0.0</td>\n",
       "      <td>0.0</td>\n",
       "      <td>0.0</td>\n",
       "      <td>0.0</td>\n",
       "      <td>0.0</td>\n",
       "      <td>1.0</td>\n",
       "      <td>0.0</td>\n",
       "      <td>0.0</td>\n",
       "      <td>0.0</td>\n",
       "      <td>-1.903614</td>\n",
       "    </tr>\n",
       "    <tr>\n",
       "      <th>4</th>\n",
       "      <td>0.0</td>\n",
       "      <td>0.0</td>\n",
       "      <td>0.0</td>\n",
       "      <td>0.0</td>\n",
       "      <td>1.0</td>\n",
       "      <td>0.0</td>\n",
       "      <td>0.0</td>\n",
       "      <td>0.0</td>\n",
       "      <td>0.0</td>\n",
       "      <td>0.311828</td>\n",
       "    </tr>\n",
       "    <tr>\n",
       "      <th>5</th>\n",
       "      <td>0.0</td>\n",
       "      <td>0.0</td>\n",
       "      <td>0.0</td>\n",
       "      <td>1.0</td>\n",
       "      <td>0.0</td>\n",
       "      <td>0.0</td>\n",
       "      <td>0.0</td>\n",
       "      <td>0.0</td>\n",
       "      <td>0.0</td>\n",
       "      <td>2.800000</td>\n",
       "    </tr>\n",
       "    <tr>\n",
       "      <th>6</th>\n",
       "      <td>0.0</td>\n",
       "      <td>0.0</td>\n",
       "      <td>1.0</td>\n",
       "      <td>0.0</td>\n",
       "      <td>0.0</td>\n",
       "      <td>0.0</td>\n",
       "      <td>0.0</td>\n",
       "      <td>0.0</td>\n",
       "      <td>0.0</td>\n",
       "      <td>-6.111111</td>\n",
       "    </tr>\n",
       "    <tr>\n",
       "      <th>7</th>\n",
       "      <td>0.0</td>\n",
       "      <td>1.0</td>\n",
       "      <td>0.0</td>\n",
       "      <td>0.0</td>\n",
       "      <td>0.0</td>\n",
       "      <td>0.0</td>\n",
       "      <td>0.0</td>\n",
       "      <td>0.0</td>\n",
       "      <td>0.0</td>\n",
       "      <td>-5.060606</td>\n",
       "    </tr>\n",
       "    <tr>\n",
       "      <th>8</th>\n",
       "      <td>1.0</td>\n",
       "      <td>0.0</td>\n",
       "      <td>0.0</td>\n",
       "      <td>0.0</td>\n",
       "      <td>0.0</td>\n",
       "      <td>0.0</td>\n",
       "      <td>0.0</td>\n",
       "      <td>0.0</td>\n",
       "      <td>0.0</td>\n",
       "      <td>-4.666667</td>\n",
       "    </tr>\n",
       "  </tbody>\n",
       "</table>\n",
       "</div>"
      ],
      "text/plain": [
       "   clstr_0_A_clstr_0_B  clstr_0_A_clstr_1_B  clstr_0_A_clstr_2_B  \\\n",
       "0                  0.0                  0.0                  0.0   \n",
       "1                  0.0                  0.0                  0.0   \n",
       "2                  0.0                  0.0                  0.0   \n",
       "3                  0.0                  0.0                  0.0   \n",
       "4                  0.0                  0.0                  0.0   \n",
       "5                  0.0                  0.0                  0.0   \n",
       "6                  0.0                  0.0                  1.0   \n",
       "7                  0.0                  1.0                  0.0   \n",
       "8                  1.0                  0.0                  0.0   \n",
       "\n",
       "   clstr_1_A_clstr_0_B  clstr_1_A_clstr_1_B  clstr_1_A_clstr_2_B  \\\n",
       "0                  0.0                  0.0                  0.0   \n",
       "1                  0.0                  0.0                  0.0   \n",
       "2                  0.0                  0.0                  0.0   \n",
       "3                  0.0                  0.0                  1.0   \n",
       "4                  0.0                  1.0                  0.0   \n",
       "5                  1.0                  0.0                  0.0   \n",
       "6                  0.0                  0.0                  0.0   \n",
       "7                  0.0                  0.0                  0.0   \n",
       "8                  0.0                  0.0                  0.0   \n",
       "\n",
       "   clstr_2_A_clstr_0_B  clstr_2_A_clstr_1_B  clstr_2_A_clstr_2_B   Outcome  \n",
       "0                  0.0                  0.0                  1.0 -0.172249  \n",
       "1                  0.0                  1.0                  0.0  2.220126  \n",
       "2                  1.0                  0.0                  0.0  8.225806  \n",
       "3                  0.0                  0.0                  0.0 -1.903614  \n",
       "4                  0.0                  0.0                  0.0  0.311828  \n",
       "5                  0.0                  0.0                  0.0  2.800000  \n",
       "6                  0.0                  0.0                  0.0 -6.111111  \n",
       "7                  0.0                  0.0                  0.0 -5.060606  \n",
       "8                  0.0                  0.0                  0.0 -4.666667  "
      ]
     },
     "execution_count": 20,
     "metadata": {},
     "output_type": "execute_result"
    }
   ],
   "source": [
    "#Calculates average outcome for each cluster interaction\n",
    "interaction_columns = []\n",
    "for combo in interactions:\n",
    "    interaction_columns.append(combo[0]+'_'+combo[1])\n",
    "interaction_results = ss_v3.groupby(interaction_columns)[['Outcome']].mean().reset_index()\n",
    "interaction_results"
   ]
  },
  {
   "cell_type": "code",
   "execution_count": 27,
   "metadata": {
    "collapsed": false
   },
   "outputs": [
    {
     "data": {
      "text/html": [
       "<div>\n",
       "<table border=\"1\" class=\"dataframe\">\n",
       "  <thead>\n",
       "    <tr style=\"text-align: right;\">\n",
       "      <th></th>\n",
       "      <th>Outcome</th>\n",
       "    </tr>\n",
       "  </thead>\n",
       "  <tbody>\n",
       "    <tr>\n",
       "      <th>clstr_2_A_clstr_2_B</th>\n",
       "      <td>-0.172249</td>\n",
       "    </tr>\n",
       "    <tr>\n",
       "      <th>clstr_2_A_clstr_1_B</th>\n",
       "      <td>2.220126</td>\n",
       "    </tr>\n",
       "    <tr>\n",
       "      <th>clstr_2_A_clstr_0_B</th>\n",
       "      <td>8.225806</td>\n",
       "    </tr>\n",
       "    <tr>\n",
       "      <th>clstr_1_A_clstr_2_B</th>\n",
       "      <td>-1.903614</td>\n",
       "    </tr>\n",
       "    <tr>\n",
       "      <th>clstr_1_A_clstr_1_B</th>\n",
       "      <td>0.311828</td>\n",
       "    </tr>\n",
       "    <tr>\n",
       "      <th>clstr_1_A_clstr_0_B</th>\n",
       "      <td>2.800000</td>\n",
       "    </tr>\n",
       "    <tr>\n",
       "      <th>clstr_0_A_clstr_2_B</th>\n",
       "      <td>-6.111111</td>\n",
       "    </tr>\n",
       "    <tr>\n",
       "      <th>clstr_0_A_clstr_1_B</th>\n",
       "      <td>-5.060606</td>\n",
       "    </tr>\n",
       "    <tr>\n",
       "      <th>clstr_0_A_clstr_0_B</th>\n",
       "      <td>-4.666667</td>\n",
       "    </tr>\n",
       "  </tbody>\n",
       "</table>\n",
       "</div>"
      ],
      "text/plain": [
       "                      Outcome\n",
       "clstr_2_A_clstr_2_B -0.172249\n",
       "clstr_2_A_clstr_1_B  2.220126\n",
       "clstr_2_A_clstr_0_B  8.225806\n",
       "clstr_1_A_clstr_2_B -1.903614\n",
       "clstr_1_A_clstr_1_B  0.311828\n",
       "clstr_1_A_clstr_0_B  2.800000\n",
       "clstr_0_A_clstr_2_B -6.111111\n",
       "clstr_0_A_clstr_1_B -5.060606\n",
       "clstr_0_A_clstr_0_B -4.666667"
      ]
     },
     "execution_count": 27,
     "metadata": {},
     "output_type": "execute_result"
    }
   ],
   "source": [
    "interaction_summary = pd.DataFrame()\n",
    "for idx, row in interaction_results.iterrows():\n",
    "    for combo in interaction_columns:\n",
    "        if row[combo]==1:\n",
    "            interaction_summary.set_value(combo, 'Outcome', row['Outcome'])\n",
    "interaction_summary"
   ]
  },
  {
   "cell_type": "code",
   "execution_count": 40,
   "metadata": {
    "collapsed": false
   },
   "outputs": [
    {
     "data": {
      "image/png": "[encoded data removed]",
      "text/plain": [
       "<matplotlib.figure.Figure at 0x10a76c250>"
      ]
     },
     "metadata": {},
     "output_type": "display_data"
    }
   ],
   "source": [
    "import matplotlib.pyplot as plt\n",
    "y = interaction_summary['Outcome']\n",
    "y_pos = np.arange(len(interaction_summary))\n",
    "plt.barh(y_pos, y, align='center', alpha=0.5)\n",
    "plt.yticks(y_pos, interaction_summary.index)\n",
    "plt.title('Average Outcome by Cluster Interaction')\n",
    "plt.tight_layout()"
   ]
  }
 ],
 "metadata": {
  "kernelspec": {
   "display_name": "Python 2",
   "language": "python",
   "name": "python2"
  },
  "language_info": {
   "codemirror_mode": {
    "name": "ipython",
    "version": 2
   },
   "file_extension": ".py",
   "mimetype": "text/x-python",
   "name": "python",
   "nbconvert_exporter": "python",
   "pygments_lexer": "ipython2",
   "version": "2.7.12"
  }
 },
 "nbformat": 4,
 "nbformat_minor": 0
}
