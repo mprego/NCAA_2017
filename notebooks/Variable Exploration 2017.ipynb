{
 "cells": [
  {
   "cell_type": "markdown",
   "metadata": {},
   "source": [
    "# Variable Exploration\n",
    "I'll explore variables present in datasets as well as any external data I can find"
   ]
  },
  {
   "cell_type": "code",
   "execution_count": 1,
   "metadata": {
    "collapsed": false
   },
   "outputs": [
    {
     "name": "stderr",
     "output_type": "stream",
     "text": [
      "//anaconda/lib/python2.7/site-packages/pandas/computation/__init__.py:19: UserWarning: The installed version of numexpr 2.4.4 is not supported in pandas and will be not be used\n",
      "\n",
      "  UserWarning)\n"
     ]
    }
   ],
   "source": [
    "#Import Packages\n",
    "import pandas as pd\n",
    "import numpy as np\n",
    "import os, sys\n",
    "\n",
    "#Import other files\n",
    "raw_path = os.path.join('..', 'data', 'raw')\n",
    "proc_path = os.path.join('..', 'data', 'processed')\n",
    "sys.path.append(os.path.join('..', 'src'))\n",
    "from viz.Correl import *\n",
    "from model.Scoring import *\n",
    "%matplotlib inline  \n",
    "%load_ext autoreload\n",
    "%autoreload 2"
   ]
  },
  {
   "cell_type": "code",
   "execution_count": 2,
   "metadata": {
    "collapsed": false,
    "scrolled": true
   },
   "outputs": [],
   "source": [
    "#Read in data from Kaggle\n",
    "reg_season = pd.read_csv(os.path.join(raw_path, 'RegularSeasonDetailedResults_2017.csv'))\n",
    "# teams = pd.read_csv(os.path.join(raw_path, 'Teams.csv'))"
   ]
  },
  {
   "cell_type": "markdown",
   "metadata": {},
   "source": [
    "# Section 1: Regular Season Performance\n",
    "I'll try to find variables for the following dimensions: Pace, Off/Def Efficiency, strength of schedule, success on road, 3 pt offense/defense, close game performance"
   ]
  },
  {
   "cell_type": "code",
   "execution_count": 3,
   "metadata": {
    "collapsed": false
   },
   "outputs": [
    {
     "name": "stderr",
     "output_type": "stream",
     "text": [
      "/anaconda/lib/python2.7/site-packages/ipykernel/__main__.py:14: SettingWithCopyWarning: \n",
      "A value is trying to be set on a copy of a slice from a DataFrame.\n",
      "Try using .loc[row_indexer,col_indexer] = value instead\n",
      "\n",
      "See the caveats in the documentation: http://pandas.pydata.org/pandas-docs/stable/indexing.html#indexing-view-versus-copy\n"
     ]
    },
    {
     "name": "stdout",
     "output_type": "stream",
     "text": [
      "                All\n",
      "Min           37.54\n",
      "1Q            51.17\n",
      "2Q            54.32\n",
      "Mean          54.37\n",
      "3Q            57.52\n",
      "Max           74.79\n",
      "Variance      22.74\n",
      "Skew           0.08\n",
      "n         278929.22\n"
     ]
    },
    {
     "data": {
      "image/png": "[encoded data removed]",
      "text/plain": [
       "<matplotlib.figure.Figure at 0x103e807d0>"
      ]
     },
     "metadata": {},
     "output_type": "display_data"
    }
   ],
   "source": [
    "# Looking for Pace variables\n",
    "\n",
    "#total possessions = (actual possessions - lost possesions)\n",
    "# actual possessions = FGA - Off Rebounds + Blocks + Fouls resulting in FTs, but not and1 (proxy with FTA)\n",
    "# lost possession = turnovers\n",
    "\n",
    "master_pace = pd.DataFrame()\n",
    "for s in list(set(reg_season.Season.values)):\n",
    "    season_games = reg_season[reg_season['Season']==s]\n",
    "    for t in ['W', 'L']:   #t is team, o is opponent\n",
    "        o = 'W'\n",
    "        if t=='W':\n",
    "            o = 'L'\n",
    "        season_games[(t+'total_poss')] = [fga - orb + blk + fta - to for fga, orb, blk, fta, to in zip(season_games[t+'fga'], season_games[t+'or'], season_games[o+'blk'], season_games[t+'fta'], season_games[t+'to'])]\n",
    "\n",
    "    pace_w = season_games[['Wteam', 'Season', 'Wtotal_poss']].rename(index=str, columns={'Wteam':'Team', 'Wtotal_poss':'total_poss'})\n",
    "    pace_l = season_games[['Lteam', 'Season', 'Ltotal_poss']].rename(index=str, columns={'Lteam':'Team', 'Ltotal_poss':'total_poss'})\n",
    "    pace = pace_w.append(pace_l).reset_index(drop=True)\n",
    "    master_pace = master_pace.append(pace).reset_index(drop=True)\n",
    "    \n",
    "pace_agg = master_pace.groupby(['Team', 'Season'])[['total_poss']].mean().reset_index()\n",
    "\n",
    "desc_stats({'All':pace_agg}, 'total_poss')"
   ]
  },
  {
   "cell_type": "code",
   "execution_count": 4,
   "metadata": {
    "collapsed": false
   },
   "outputs": [
    {
     "name": "stderr",
     "output_type": "stream",
     "text": [
      "/anaconda/lib/python2.7/site-packages/ipykernel/__main__.py:14: SettingWithCopyWarning: \n",
      "A value is trying to be set on a copy of a slice from a DataFrame.\n",
      "Try using .loc[row_indexer,col_indexer] = value instead\n",
      "\n",
      "See the caveats in the documentation: http://pandas.pydata.org/pandas-docs/stable/indexing.html#indexing-view-versus-copy\n"
     ]
    },
    {
     "name": "stdout",
     "output_type": "stream",
     "text": [
      "               All\n",
      "Min           5.44\n",
      "1Q            8.81\n",
      "2Q            9.75\n",
      "Mean          9.83\n",
      "3Q           10.75\n",
      "Max          16.39\n",
      "Variance      2.17\n",
      "Skew          0.34\n",
      "n         50440.72\n"
     ]
    },
    {
     "data": {
      "image/png": "[encoded data removed]",
      "text/plain": [
       "<matplotlib.figure.Figure at 0x107f84c50>"
      ]
     },
     "metadata": {},
     "output_type": "display_data"
    }
   ],
   "source": [
    "# Looking for consistency of Pace variables\n",
    "\n",
    "#total possessions = (actual possessions - lost possesions)\n",
    "# actual possessions = FGA - Off Rebounds + Blocks + Fouls resulting in FTs, but not and1 (proxy with FTA)\n",
    "# lost possession = turnovers\n",
    "\n",
    "master_pace = pd.DataFrame()\n",
    "for s in list(set(reg_season.Season.values)):\n",
    "    season_games = reg_season[reg_season['Season']==s]\n",
    "    for t in ['W', 'L']:   #t is team, o is opponent\n",
    "        o = 'W'\n",
    "        if t=='W':\n",
    "            o = 'L'\n",
    "        season_games[(t+'total_poss')] = [fga - orb + blk + fta - to for fga, orb, blk, fta, to in zip(season_games[t+'fga'], season_games[t+'or'], season_games[o+'blk'], season_games[t+'fta'], season_games[t+'to'])]\n",
    "\n",
    "    pace_w = season_games[['Wteam', 'Season', 'Wtotal_poss']].rename(index=str, columns={'Wteam':'Team', 'Wtotal_poss':'total_poss'})\n",
    "    pace_l = season_games[['Lteam', 'Season', 'Ltotal_poss']].rename(index=str, columns={'Lteam':'Team', 'Ltotal_poss':'total_poss'})\n",
    "    pace = pace_w.append(pace_l).reset_index(drop=True)\n",
    "    master_pace = master_pace.append(pace).reset_index(drop=True)\n",
    "    \n",
    "pace_stdev = master_pace.groupby(['Team', 'Season'])[['total_poss']].std().reset_index()\n",
    "pace_stdev = pace_stdev.rename(index=str, columns={'total_poss':'poss_stdev'})\n",
    "\n",
    "desc_stats({'All':pace_stdev}, 'poss_stdev')"
   ]
  },
  {
   "cell_type": "code",
   "execution_count": 5,
   "metadata": {
    "collapsed": false
   },
   "outputs": [
    {
     "name": "stderr",
     "output_type": "stream",
     "text": [
      "/anaconda/lib/python2.7/site-packages/ipykernel/__main__.py:13: SettingWithCopyWarning: \n",
      "A value is trying to be set on a copy of a slice from a DataFrame.\n",
      "Try using .loc[row_indexer,col_indexer] = value instead\n",
      "\n",
      "See the caveats in the documentation: http://pandas.pydata.org/pandas-docs/stable/indexing.html#indexing-view-versus-copy\n",
      "/anaconda/lib/python2.7/site-packages/ipykernel/__main__.py:15: SettingWithCopyWarning: \n",
      "A value is trying to be set on a copy of a slice from a DataFrame.\n",
      "Try using .loc[row_indexer,col_indexer] = value instead\n",
      "\n",
      "See the caveats in the documentation: http://pandas.pydata.org/pandas-docs/stable/indexing.html#indexing-view-versus-copy\n",
      "/anaconda/lib/python2.7/site-packages/ipykernel/__main__.py:16: SettingWithCopyWarning: \n",
      "A value is trying to be set on a copy of a slice from a DataFrame.\n",
      "Try using .loc[row_indexer,col_indexer] = value instead\n",
      "\n",
      "See the caveats in the documentation: http://pandas.pydata.org/pandas-docs/stable/indexing.html#indexing-view-versus-copy\n"
     ]
    },
    {
     "name": "stdout",
     "output_type": "stream",
     "text": [
      "              All\n",
      "Min          0.46\n",
      "1Q           0.88\n",
      "2Q           0.94\n",
      "Mean         0.93\n",
      "3Q           0.97\n",
      "Max          1.50\n",
      "Variance     0.01\n",
      "Skew        -0.60\n",
      "n         4764.25\n"
     ]
    },
    {
     "data": {
      "image/png": "[encoded data removed]",
      "text/plain": [
       "<matplotlib.figure.Figure at 0x1021212d0>"
      ]
     },
     "metadata": {},
     "output_type": "display_data"
    }
   ],
   "source": [
    "# Looking for Offensive Efficiency\n",
    "\n",
    "# points per possession = points scored / possessions\n",
    "\n",
    "master_oeff = pd.DataFrame()\n",
    "for s in list(set(reg_season.Season.values)):\n",
    "    season_games = reg_season[reg_season['Season']==s]\n",
    "    \n",
    "    for t in ['W', 'L']:   #t is team, o is opponent\n",
    "        o = 'W'\n",
    "        if t=='W':\n",
    "            o = 'L'\n",
    "        season_games[(t+'total_poss')] = [fga - orb + blk + fta - to for fga, orb, blk, fta, to in zip(season_games[t+'fga'], season_games[t+'or'], season_games[o+'blk'], season_games[t+'fta'], season_games[t+'to'])]\n",
    "\n",
    "    season_games['Woff_eff'] = [pts / poss for pts, poss in zip(season_games['Wscore'], season_games['Wtotal_poss'])]\n",
    "    season_games['Loff_eff'] = [pts / poss for pts, poss in zip(season_games['Lscore'], season_games['Ltotal_poss'])]\n",
    "\n",
    "    eff_w = season_games[['Wteam', 'Season', 'Woff_eff']].rename(index=str, columns={'Wteam':'Team', 'Woff_eff':'eff'})\n",
    "    eff_l = season_games[['Lteam', 'Season', 'Loff_eff']].rename(index=str, columns={'Lteam':'Team', 'Loff_eff':'eff'})\n",
    "#    eff = eff_w.append(eff_l).reset_index(drop=True)\n",
    "    master_oeff = master_oeff.append(eff_w).append(eff_l).reset_index(drop=True)\n",
    "\n",
    "oeff_agg = master_oeff.groupby(['Team', 'Season']).mean().reset_index()\n",
    "\n",
    "desc_stats({'All':oeff_agg}, 'eff')"
   ]
  },
  {
   "cell_type": "code",
   "execution_count": 6,
   "metadata": {
    "collapsed": false
   },
   "outputs": [
    {
     "name": "stderr",
     "output_type": "stream",
     "text": [
      "/anaconda/lib/python2.7/site-packages/ipykernel/__main__.py:13: SettingWithCopyWarning: \n",
      "A value is trying to be set on a copy of a slice from a DataFrame.\n",
      "Try using .loc[row_indexer,col_indexer] = value instead\n",
      "\n",
      "See the caveats in the documentation: http://pandas.pydata.org/pandas-docs/stable/indexing.html#indexing-view-versus-copy\n",
      "/anaconda/lib/python2.7/site-packages/ipykernel/__main__.py:15: SettingWithCopyWarning: \n",
      "A value is trying to be set on a copy of a slice from a DataFrame.\n",
      "Try using .loc[row_indexer,col_indexer] = value instead\n",
      "\n",
      "See the caveats in the documentation: http://pandas.pydata.org/pandas-docs/stable/indexing.html#indexing-view-versus-copy\n",
      "/anaconda/lib/python2.7/site-packages/ipykernel/__main__.py:16: SettingWithCopyWarning: \n",
      "A value is trying to be set on a copy of a slice from a DataFrame.\n",
      "Try using .loc[row_indexer,col_indexer] = value instead\n",
      "\n",
      "See the caveats in the documentation: http://pandas.pydata.org/pandas-docs/stable/indexing.html#indexing-view-versus-copy\n"
     ]
    },
    {
     "name": "stdout",
     "output_type": "stream",
     "text": [
      "              All\n",
      "Min          0.42\n",
      "1Q           0.88\n",
      "2Q           0.94\n",
      "Mean         0.93\n",
      "3Q           1.00\n",
      "Max          1.86\n",
      "Variance     0.01\n",
      "Skew        -0.58\n",
      "n         4773.31\n"
     ]
    },
    {
     "data": {
      "image/png": "[encoded data removed]",
      "text/plain": [
       "<matplotlib.figure.Figure at 0x1086ee0d0>"
      ]
     },
     "metadata": {},
     "output_type": "display_data"
    }
   ],
   "source": [
    "# Looking for Defensive Efficiency\n",
    "\n",
    "# points per possession = points scored / possessions\n",
    "\n",
    "master_deff = pd.DataFrame()\n",
    "for s in list(set(reg_season.Season.values)):\n",
    "    season_games = reg_season[reg_season['Season']==s]\n",
    "    \n",
    "    for t in ['W', 'L']:   #t is team, o is opponent\n",
    "        o = 'W'\n",
    "        if t=='W':\n",
    "            o = 'L'\n",
    "        season_games[(t+'total_poss')] = [fga - orb + blk + fta - to for fga, orb, blk, fta, to in zip(season_games[t+'fga'], season_games[t+'or'], season_games[o+'blk'], season_games[t+'fta'], season_games[t+'to'])]\n",
    "\n",
    "    season_games['Loff_eff'] = [pts / poss for pts, poss in zip(season_games['Wscore'], season_games['Wtotal_poss'])]\n",
    "    season_games['Woff_eff'] = [pts / poss for pts, poss in zip(season_games['Lscore'], season_games['Ltotal_poss'])]\n",
    "\n",
    "    eff_w = season_games[['Wteam', 'Season', 'Woff_eff']].rename(index=str, columns={'Wteam':'Team', 'Woff_eff':'eff'})\n",
    "    eff_l = season_games[['Lteam', 'Season', 'Loff_eff']].rename(index=str, columns={'Lteam':'Team', 'Loff_eff':'eff'})\n",
    "#    eff = eff_w.append(eff_l).reset_index(drop=True)\n",
    "    master_deff = master_deff.append(eff_w).append(eff_l).reset_index(drop=True)\n",
    "\n",
    "deff_agg = master_deff.groupby(['Team', 'Season']).mean().reset_index()\n",
    "\n",
    "desc_stats({'All':deff_agg}, 'eff')"
   ]
  },
  {
   "cell_type": "code",
   "execution_count": 7,
   "metadata": {
    "collapsed": false
   },
   "outputs": [
    {
     "name": "stdout",
     "output_type": "stream",
     "text": [
      "              All\n",
      "Min          0.00\n",
      "1Q           0.36\n",
      "2Q           0.50\n",
      "Mean         0.49\n",
      "3Q           0.63\n",
      "Max          1.00\n",
      "Variance     0.04\n",
      "Skew        -0.04\n",
      "n         2534.15\n"
     ]
    },
    {
     "data": {
      "image/png": "[encoded data removed]",
      "text/plain": [
       "<matplotlib.figure.Figure at 0x103e30e90>"
      ]
     },
     "metadata": {},
     "output_type": "display_data"
    }
   ],
   "source": [
    "# Looking for strength of schedule\n",
    "\n",
    "#SOS = win_pct of teams they play * 2/3 + 1/3 * win_pct of team the teams play\n",
    "\n",
    "#Gets win percentage of each team\n",
    "win_pct = pd.DataFrame()\n",
    "for s in list(set(reg_season.Season.values)):\n",
    "    games = reg_season[reg_season['Season']==s]\n",
    "    \n",
    "    team_win_pct = pd.DataFrame()\n",
    "    for team in list(set(games['Lteam'].values) | set(games['Wteam'].values)):\n",
    "        wins = len(games[games['Wteam']==team])\n",
    "        losses = len(games[games['Lteam']==team])\n",
    "        team_win_pct.set_value(team, 'WinPct', 1.0*wins/(wins+losses))\n",
    "    team_win_pct['Season'] = s\n",
    "    team_win_pct = team_win_pct.reset_index()\n",
    "    team_win_pct = team_win_pct.reset_index().rename(index=str, columns={'index':'Team'})\n",
    "    win_pct = win_pct.append(team_win_pct).reset_index(drop=True)\n",
    "\n",
    "desc_stats({'All':win_pct}, 'WinPct')"
   ]
  },
  {
   "cell_type": "code",
   "execution_count": 8,
   "metadata": {
    "collapsed": false
   },
   "outputs": [
    {
     "name": "stdout",
     "output_type": "stream",
     "text": [
      "              All\n",
      "Min          0.34\n",
      "1Q           0.46\n",
      "2Q           0.49\n",
      "Mean         0.50\n",
      "3Q           0.54\n",
      "Max          0.65\n",
      "Variance     0.00\n",
      "Skew         0.12\n",
      "n         2557.40\n"
     ]
    },
    {
     "data": {
      "image/png": "[encoded data removed]",
      "text/plain": [
       "<matplotlib.figure.Figure at 0x1095e9f90>"
      ]
     },
     "metadata": {},
     "output_type": "display_data"
    }
   ],
   "source": [
    "#Gets win percentage of opponents\n",
    "opp_win_pct = pd.DataFrame()\n",
    "idx = 0\n",
    "for s in list(set(reg_season.Season.values)):\n",
    "    games = reg_season[reg_season['Season']==s]\n",
    "    \n",
    "    for team in list(set(games['Lteam'].values) | set(games['Wteam'].values)):\n",
    "        opp_l = games[games['Lteam']==team][['Wteam']].rename(index=str, columns={'Wteam':'Team'})\n",
    "        opp_w = games[games['Wteam']==team][['Lteam']].rename(index=str, columns={'Lteam':'Team'})\n",
    "        opp = opp_l.append(opp_w).reset_index(drop=True)\n",
    "        opp['Season'] = s\n",
    "        opp_records = opp.merge(win_pct, on=['Season', 'Team'], how='inner')\n",
    "        opp_avg_records = opp_records['WinPct'].mean()\n",
    "        opp_win_pct.set_value(idx, 'Team', team)\n",
    "        opp_win_pct.set_value(idx, 'Season', s)\n",
    "        opp_win_pct.set_value(idx, 'opp_win_pct', opp_avg_records)\n",
    "        idx += 1\n",
    "        \n",
    "desc_stats({'All':opp_win_pct}, 'opp_win_pct')        "
   ]
  },
  {
   "cell_type": "code",
   "execution_count": 9,
   "metadata": {
    "collapsed": false
   },
   "outputs": [
    {
     "name": "stdout",
     "output_type": "stream",
     "text": [
      "              All\n",
      "Min          0.43\n",
      "1Q           0.48\n",
      "2Q           0.49\n",
      "Mean         0.50\n",
      "3Q           0.52\n",
      "Max          0.57\n",
      "Variance     0.00\n",
      "Skew         0.26\n",
      "n         2560.02\n"
     ]
    },
    {
     "data": {
      "image/png": "[encoded data removed]",
      "text/plain": [
       "<matplotlib.figure.Figure at 0x1020f9ad0>"
      ]
     },
     "metadata": {},
     "output_type": "display_data"
    }
   ],
   "source": [
    "#Gets win percentage of opponents opponents\n",
    "opp2_win_pct = pd.DataFrame()\n",
    "idx = 0\n",
    "for s in list(set(reg_season.Season.values)):\n",
    "    games = reg_season[reg_season['Season']==s]\n",
    "    \n",
    "    for team in list(set(games['Lteam'].values) | set(games['Wteam'].values)):\n",
    "        opp_l = games[games['Lteam']==team][['Wteam']].rename(index=str, columns={'Wteam':'Team'})\n",
    "        opp_w = games[games['Wteam']==team][['Lteam']].rename(index=str, columns={'Lteam':'Team'})\n",
    "        opp = opp_l.append(opp_w).reset_index(drop=True)\n",
    "        opp['Season'] = s\n",
    "        opp2_records = opp.merge(opp_win_pct, on=['Season', 'Team'], how='inner')\n",
    "        opp2_avg_records = opp2_records['opp_win_pct'].mean()\n",
    "        opp2_win_pct.set_value(idx, 'Team', team)\n",
    "        opp2_win_pct.set_value(idx, 'Season', s)\n",
    "        opp2_win_pct.set_value(idx, 'opp2_win_pct', opp2_avg_records)\n",
    "        idx += 1\n",
    "        \n",
    "desc_stats({'All':opp2_win_pct}, 'opp2_win_pct')    "
   ]
  },
  {
   "cell_type": "code",
   "execution_count": 10,
   "metadata": {
    "collapsed": false
   },
   "outputs": [
    {
     "name": "stdout",
     "output_type": "stream",
     "text": [
      "              All\n",
      "Min          0.38\n",
      "1Q           0.47\n",
      "2Q           0.49\n",
      "Mean         0.50\n",
      "3Q           0.53\n",
      "Max          0.62\n",
      "Variance     0.00\n",
      "Skew         0.18\n",
      "n         2558.28\n"
     ]
    },
    {
     "data": {
      "image/png": "[encoded data removed]",
      "text/plain": [
       "<matplotlib.figure.Figure at 0x1087143d0>"
      ]
     },
     "metadata": {},
     "output_type": "display_data"
    }
   ],
   "source": [
    "#Compiles SOS metric\n",
    "sos_agg = pd.DataFrame()\n",
    "sos_agg['Team'] = win_pct['Team']\n",
    "sos_agg['Season'] = win_pct['Season']\n",
    "sos_agg['SOS'] = [(2.0/3.0)*o + (1.0/3.0)*oo for o, oo in zip(opp_win_pct['opp_win_pct'], opp2_win_pct['opp2_win_pct'])]\n",
    "\n",
    "desc_stats({'All':sos_agg}, 'SOS')    "
   ]
  },
  {
   "cell_type": "code",
   "execution_count": 11,
   "metadata": {
    "collapsed": false
   },
   "outputs": [
    {
     "name": "stdout",
     "output_type": "stream",
     "text": [
      "              All\n",
      "Min         -0.37\n",
      "1Q           0.16\n",
      "2Q           0.28\n",
      "Mean         0.28\n",
      "3Q           0.40\n",
      "Max          1.00\n",
      "Variance     0.03\n",
      "Skew        -0.01\n",
      "n         1436.09\n"
     ]
    },
    {
     "data": {
      "image/png": "[encoded data removed]",
      "text/plain": [
       "<matplotlib.figure.Figure at 0x1082a0f90>"
      ]
     },
     "metadata": {},
     "output_type": "display_data"
    }
   ],
   "source": [
    "# Looking for success on road\n",
    "\n",
    "#Win percentage difference when at road or at neutral vs when at home\n",
    "\n",
    "team_home_adv = pd.DataFrame()\n",
    "idx = 0\n",
    "for s in list(set(reg_season.Season.values)):\n",
    "    games = reg_season[reg_season['Season']==s]\n",
    "    \n",
    "    for team in list(set(games['Lteam'].values) | set(games['Wteam'].values)):\n",
    "        #When at home\n",
    "        wins_h = len(games[(games['Wteam']==team) & (games['Wloc']=='H')])\n",
    "        losses_h = len(games[(games['Lteam']==team) & (games['Wloc']=='A')])\n",
    "        if (wins_h + losses_h)==0:\n",
    "            home_pct = 0\n",
    "        else:\n",
    "            home_pct = 1.0*wins_h/(wins_h+losses_h)\n",
    "        #When away or in neutral\n",
    "        wins_a = len(games[(games['Wteam']==team) & (games['Wloc'].isin(['A', 'N']))])\n",
    "        losses_a = len(games[(games['Lteam']==team) & (games['Wloc'].isin(['H', 'N']))]) \n",
    "        away_pct = 1.0*wins_a/(wins_a+losses_a)\n",
    "        team_home_adv.set_value(idx, 'Team', team)\n",
    "        team_home_adv.set_value(idx, 'Season', s)\n",
    "        team_home_adv.set_value(idx, 'home_adv', home_pct - away_pct)\n",
    "        idx += 1\n",
    "\n",
    "desc_stats({'All':team_home_adv}, 'home_adv')\n"
   ]
  },
  {
   "cell_type": "code",
   "execution_count": 12,
   "metadata": {
    "collapsed": false,
    "scrolled": true
   },
   "outputs": [
    {
     "name": "stdout",
     "output_type": "stream",
     "text": [
      "             All\n",
      "Min         0.06\n",
      "1Q          0.16\n",
      "2Q          0.19\n",
      "Mean        0.19\n",
      "3Q          0.22\n",
      "Max         0.35\n",
      "Variance    0.00\n",
      "Skew        0.39\n",
      "n         975.49\n"
     ]
    },
    {
     "data": {
      "image/png": "[encoded data removed]",
      "text/plain": [
       "<matplotlib.figure.Figure at 0x109545f50>"
      ]
     },
     "metadata": {},
     "output_type": "display_data"
    }
   ],
   "source": [
    "# Looking for 3 point offense\n",
    "\n",
    "# 3pt offense = (3 pointers made / (all shots made + shots resulting in FT)\n",
    "reg_season['W32Ratio'] = [1.0*x/(y+z*0.5) for x,y,z in zip(reg_season['Wfgm3'], reg_season['Wfgm'], reg_season['Wfta'])]\n",
    "reg_season['L32Ratio'] = [1.0*x/(y+z*0.5) for x,y,z in zip(reg_season['Lfgm3'], reg_season['Lfgm'], reg_season['Lfta'])]\n",
    "\n",
    "W3p = reg_season[['Wteam', 'Season',  'W32Ratio']].rename(index=str, columns={'Wteam':'Team', 'W32Ratio':'ratio'})\n",
    "L3p = reg_season[['Lteam', 'Season', 'L32Ratio']].rename(index=str, columns={'Lteam':'Team', 'L32Ratio':'ratio'})\n",
    "o3P = W3p.append(L3p).reset_index(drop=True)\n",
    "\n",
    "o3P_agg = o3P.groupby(['Team', 'Season'])[['ratio']].mean().reset_index()\n",
    "\n",
    "desc_stats({'All':o3P_agg}, 'ratio')"
   ]
  },
  {
   "cell_type": "code",
   "execution_count": 13,
   "metadata": {
    "collapsed": false
   },
   "outputs": [
    {
     "name": "stdout",
     "output_type": "stream",
     "text": [
      "             All\n",
      "Min         0.10\n",
      "1Q          0.17\n",
      "2Q          0.19\n",
      "Mean        0.19\n",
      "3Q          0.21\n",
      "Max         0.32\n",
      "Variance    0.00\n",
      "Skew        0.31\n",
      "n         974.27\n"
     ]
    },
    {
     "data": {
      "image/png": "[encoded data removed]",
      "text/plain": [
       "<matplotlib.figure.Figure at 0x1087171d0>"
      ]
     },
     "metadata": {},
     "output_type": "display_data"
    }
   ],
   "source": [
    "# Looking for 3 point defense\n",
    "\n",
    "# 3pt offense = (3 pointers made / (all FG made + shots resulting in FT)\n",
    "reg_season['L32Ratio'] = [1.0*x/(y+z*0.5) for x,y,z in zip(reg_season['Wfgm3'], reg_season['Wfgm'], reg_season['Wfta'])]\n",
    "reg_season['W32Ratio'] = [1.0*x/(y+z*0.5) for x,y,z in zip(reg_season['Lfgm3'], reg_season['Lfgm'], reg_season['Lfta'])]\n",
    "\n",
    "W3p = reg_season[['Wteam', 'Season', 'W32Ratio']].rename(index=str, columns={'Wteam':'Team', 'W32Ratio':'ratio'})\n",
    "L3p = reg_season[['Lteam', 'Season', 'L32Ratio']].rename(index=str, columns={'Lteam':'Team', 'L32Ratio':'ratio'})\n",
    "d3P = W3p.append(L3p).reset_index(drop=True)\n",
    "\n",
    "d3P_agg = d3P.groupby(['Team', 'Season'])[['ratio']].mean().reset_index()\n",
    "\n",
    "desc_stats({'All':d3P_agg}, 'ratio')"
   ]
  },
  {
   "cell_type": "code",
   "execution_count": 14,
   "metadata": {
    "collapsed": false
   },
   "outputs": [
    {
     "name": "stderr",
     "output_type": "stream",
     "text": [
      "/anaconda/lib/python2.7/site-packages/ipykernel/__main__.py:9: SettingWithCopyWarning: \n",
      "A value is trying to be set on a copy of a slice from a DataFrame.\n",
      "Try using .loc[row_indexer,col_indexer] = value instead\n",
      "\n",
      "See the caveats in the documentation: http://pandas.pydata.org/pandas-docs/stable/indexing.html#indexing-view-versus-copy\n"
     ]
    },
    {
     "name": "stdout",
     "output_type": "stream",
     "text": [
      "            All\n",
      "Min       -0.96\n",
      "1Q        -0.17\n",
      "2Q         0.00\n",
      "Mean       0.01\n",
      "3Q         0.18\n",
      "Max        1.00\n",
      "Variance   0.07\n",
      "Skew       0.04\n",
      "n         27.69\n"
     ]
    },
    {
     "data": {
      "image/png": "[encoded data removed]",
      "text/plain": [
       "<matplotlib.figure.Figure at 0x1086870d0>"
      ]
     },
     "metadata": {},
     "output_type": "display_data"
    }
   ],
   "source": [
    "# Looking at close game performance\n",
    "\n",
    "#Difference Win percentage when games are within 5 points or go to OT vs other scenarios\n",
    "\n",
    "team_clutch_win = pd.DataFrame()\n",
    "idx = 0\n",
    "for s in list(set(reg_season.Season.values)):\n",
    "    games = reg_season[reg_season['Season']==s]\n",
    "    games['Score_Diff'] = [w-l for w,l in zip(games['Wscore'], games['Lscore'])]\n",
    "    games_close = games[(games['Score_Diff']<=5) | (games['Numot']>0)]\n",
    "    games_non_close = games[(games['Score_Diff']>5) & (games['Numot']==0)]\n",
    "    \n",
    "    for team in list(set(games['Lteam'].values) | set(games['Wteam'].values)):\n",
    "        wins_close = len(games_close[games_close['Wteam']==team])\n",
    "        losses_close = len(games_close[games_close['Lteam']==team])\n",
    "        if (wins_close+losses_close) == 0:\n",
    "            close_pct = 0\n",
    "        else:\n",
    "            close_pct = 1.0*wins_close/(wins_close + losses_close)\n",
    "        \n",
    "        wins_non_close = len(games_non_close[games_non_close['Wteam']==team])\n",
    "        losses_non_close = len(games_non_close[games_non_close['Lteam']==team])\n",
    "        non_close_pct = 1.0*wins_non_close/(wins_non_close + losses_non_close)\n",
    "        \n",
    "        team_clutch_win.set_value(idx, 'Team', team)\n",
    "        team_clutch_win.set_value(idx, 'Season', s)\n",
    "        team_clutch_win.set_value(idx, 'Clutch', close_pct - non_close_pct)\n",
    "        idx += 1\n",
    "\n",
    "desc_stats({'All':team_clutch_win}, 'Clutch')"
   ]
  },
  {
   "cell_type": "code",
   "execution_count": 15,
   "metadata": {
    "collapsed": false
   },
   "outputs": [
    {
     "name": "stdout",
     "output_type": "stream",
     "text": [
      "5130\n",
      "5130\n",
      "5130\n",
      "5130\n",
      "5130\n",
      "5130\n",
      "5130\n",
      "5130\n",
      "5130\n",
      "5130\n"
     ]
    }
   ],
   "source": [
    "#combines all features into one file\n",
    "features = pace_agg\n",
    "print len(features)\n",
    "features = features.merge(pace_stdev, on=['Team', 'Season'])\n",
    "print len(features)\n",
    "features = features.merge(oeff_agg, on=['Team', 'Season'])\n",
    "print len(features)\n",
    "features = features.merge(deff_agg, on=['Team', 'Season'])\n",
    "print len(features)\n",
    "features = features.rename(index=str, columns={'eff_x':'oeff', 'eff_y':'deff'})\n",
    "features = features.merge(sos_agg, on=['Team', 'Season'])\n",
    "print len(features)\n",
    "features = features.merge(team_home_adv, on=['Team', 'Season'])\n",
    "print len(features)\n",
    "features = features.merge(o3P_agg, on=['Team', 'Season'])\n",
    "print len(features)\n",
    "features = features.merge(d3P_agg, on=['Team', 'Season'])\n",
    "print len(features)\n",
    "features = features.rename(index=str, columns={'ratio_x':'o3P', 'ratio_y':'d3P'})\n",
    "features = features.merge(win_pct[['Team', 'Season', 'WinPct']], on=['Team', 'Season'])\n",
    "print len(features)\n",
    "features = features.merge(team_clutch_win, on=['Team', 'Season'])\n",
    "print len(features)"
   ]
  },
  {
   "cell_type": "code",
   "execution_count": 16,
   "metadata": {
    "collapsed": false,
    "scrolled": true
   },
   "outputs": [],
   "source": [
    "features.to_csv(os.path.join(proc_path, 'team_features_2017.csv'), index=False)"
   ]
  }
 ],
 "metadata": {
  "kernelspec": {
   "display_name": "Python 2",
   "language": "python",
   "name": "python2"
  },
  "language_info": {
   "codemirror_mode": {
    "name": "ipython",
    "version": 2
   },
   "file_extension": ".py",
   "mimetype": "text/x-python",
   "name": "python",
   "nbconvert_exporter": "python",
   "pygments_lexer": "ipython2",
   "version": "2.7.12"
  }
 },
 "nbformat": 4,
 "nbformat_minor": 0
}
