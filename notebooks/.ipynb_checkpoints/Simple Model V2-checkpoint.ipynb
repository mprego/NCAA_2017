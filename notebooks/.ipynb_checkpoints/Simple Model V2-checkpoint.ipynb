{
 "cells": [
  {
   "cell_type": "markdown",
   "metadata": {},
   "source": [
    "# Simple Model: Version 2\n",
    "Creates a model with some combined features"
   ]
  },
  {
   "cell_type": "code",
   "execution_count": 16,
   "metadata": {
    "collapsed": false
   },
   "outputs": [
    {
     "name": "stdout",
     "output_type": "stream",
     "text": [
      "The autoreload extension is already loaded. To reload it, use:\n",
      "  %reload_ext autoreload\n"
     ]
    }
   ],
   "source": [
    "#Import packages\n",
    "import pandas as pd\n",
    "import numpy as np\n",
    "import os, sys\n",
    "\n",
    "#Import other files\n",
    "raw_path = os.path.join('..', 'data', 'raw')\n",
    "proc_path = os.path.join('..', 'data', 'processed')\n",
    "sys.path.append(os.path.join('..', 'src'))\n",
    "from model.Reg_Model import *\n",
    "from model.Scoring import *\n",
    "from sklearn.preprocessing import RobustScaler\n",
    "from sklearn.feature_selection import SelectKBest\n",
    "\n",
    "%load_ext autoreload\n",
    "%autoreload 2"
   ]
  },
  {
   "cell_type": "code",
   "execution_count": 17,
   "metadata": {
    "collapsed": false
   },
   "outputs": [],
   "source": [
    "#Read in data\n",
    "ss_v2 = pd.read_csv(os.path.join(proc_path, 'scoring_set_v2.csv'))\n",
    "\n",
    "# Reads in data\n",
    "seeds = pd.read_csv(os.path.join(raw_path, 'TourneySeeds.csv'))\n",
    "slots = pd.read_csv(os.path.join(raw_path, 'TourneySlots.csv'))\n",
    "results = pd.read_csv(os.path.join(raw_path, 'TourneyCompactResults.csv'))\n",
    "features = pd.read_csv(os.path.join(proc_path, 'team_features_v2.csv'))\n",
    "\n",
    "seeds = seeds[seeds['Season']>2003]\n",
    "slots = slots[slots['Season']>2003]\n",
    "results = results[results['Season']>2003]"
   ]
  },
  {
   "cell_type": "markdown",
   "metadata": {},
   "source": [
    "# Starting model building process"
   ]
  },
  {
   "cell_type": "code",
   "execution_count": 18,
   "metadata": {
    "collapsed": false
   },
   "outputs": [],
   "source": [
    "#Preps file for model\n",
    "x = ss_v2.drop(['Team_A', 'Team_B', 'Outcome'], 1)\n",
    "                \n",
    "#drops variables that were used in cluster\n",
    "x = x.drop(['total_poss_A', 'total_poss_B', 'oeff_A', 'oeff_B', 'deff_A', 'deff_B'], 1)\n",
    "y = ss_v2['Outcome']"
   ]
  },
  {
   "cell_type": "code",
   "execution_count": 4,
   "metadata": {
    "collapsed": false
   },
   "outputs": [
    {
     "name": "stdout",
     "output_type": "stream",
     "text": [
      "ridge\n",
      "127.528385217\n",
      "Avg Pts 76.6923076923\n"
     ]
    }
   ],
   "source": [
    "#Creates model\n",
    "game_model = Reg_Model()\n",
    "game_model.set_training(x,y)\n",
    "game_model.calc_model()\n",
    "print game_model.get_model_type()\n",
    "print game_model.get_mse()\n",
    "\n",
    "#Scores in simulated tournament\n",
    "scorer = Scorer(features)\n",
    "scorer.set_variables(slots, seeds, results, game_model)\n",
    "print 'Avg Pts', scorer.score_model()"
   ]
  },
  {
   "cell_type": "code",
   "execution_count": 5,
   "metadata": {
    "collapsed": false
   },
   "outputs": [
    {
     "name": "stdout",
     "output_type": "stream",
     "text": [
      "ridge\n",
      "126.384523372\n",
      "Avg Pts 76.6923076923\n"
     ]
    }
   ],
   "source": [
    "#Creates model with scaling\n",
    "game_model_s = Reg_Model()\n",
    "game_model_s.set_training(x,y)\n",
    "game_model_s.set_pipeline([('scaler', RobustScaler())], None)\n",
    "game_model_s.calc_model()\n",
    "print game_model_s.get_model_type()\n",
    "print game_model_s.get_mse()\n",
    "\n",
    "#Scores in simulated tournament\n",
    "scorer_s = Scorer(features)\n",
    "scorer_s.set_variables(slots, seeds, results, game_model_s)\n",
    "print 'Avg Pts', scorer_s.score_model()"
   ]
  },
  {
   "cell_type": "code",
   "execution_count": 6,
   "metadata": {
    "collapsed": false
   },
   "outputs": [
    {
     "name": "stdout",
     "output_type": "stream",
     "text": [
      "ridge\n",
      "126.860846505\n",
      "Avg Pts 81.2307692308\n"
     ]
    }
   ],
   "source": [
    "#Creates model with feature selection\n",
    "game_model_f = Reg_Model()\n",
    "game_model_f.set_training(x,y)\n",
    "steps = [('feature_selection', SelectKBest())]\n",
    "params = dict(feature_selection__k=[3,5,10])\n",
    "game_model_f.set_pipeline(steps, params)\n",
    "game_model_f.calc_model()\n",
    "print game_model_f.get_model_type()\n",
    "print game_model_f.get_mse()\n",
    "\n",
    "#Scores in simulated tournament\n",
    "scorer_f = Scorer(features)\n",
    "scorer_f.set_variables(slots, seeds, results, game_model_f)\n",
    "print 'Avg Pts', scorer_f.score_model()"
   ]
  },
  {
   "cell_type": "code",
   "execution_count": 19,
   "metadata": {
    "collapsed": false
   },
   "outputs": [
    {
     "name": "stdout",
     "output_type": "stream",
     "text": [
      "ridge\n",
      "125.544911594\n",
      "Avg Pts 82.4615384615\n"
     ]
    }
   ],
   "source": [
    "#Creates model with scaler and feature selection\n",
    "\n",
    "game_model_fs = Reg_Model()\n",
    "game_model_fs.set_training(x,y)\n",
    "steps = [('scaler', RobustScaler()), ('feature_selection', SelectKBest())]\n",
    "params = dict(feature_selection__k=[3,5,10])\n",
    "game_model_fs.set_pipeline(steps, params)\n",
    "game_model_fs.calc_model()\n",
    "print game_model_fs.get_model_type()\n",
    "print game_model_fs.get_mse()\n",
    "\n",
    "\n",
    "#Scores in simulated tournament\n",
    "scorer_fs = Scorer(features)\n",
    "scorer_fs.set_variables(slots, seeds, results, game_model_fs)\n",
    "print 'Avg Pts', scorer_fs.score_model()"
   ]
  },
  {
   "cell_type": "code",
   "execution_count": 8,
   "metadata": {
    "collapsed": true
   },
   "outputs": [],
   "source": [
    "#Redo, but keep all variables\n",
    "#Preps file for model\n",
    "x = ss_v2.drop(['Team_A', 'Team_B', 'Outcome'], 1)\n",
    "                \n",
    "#drops variables that were used in cluster\n",
    "# x = x.drop(['total_poss_A', 'total_poss_B', 'oeff_A', 'oeff_B', 'deff_A', 'deff_B'], 1)\n",
    "y = ss_v2['Outcome']"
   ]
  },
  {
   "cell_type": "code",
   "execution_count": 9,
   "metadata": {
    "collapsed": false
   },
   "outputs": [
    {
     "name": "stdout",
     "output_type": "stream",
     "text": [
      "ridge\n",
      "126.549957546\n",
      "Avg Pts 75.0769230769\n"
     ]
    }
   ],
   "source": [
    "#Creates model\n",
    "game_model = Reg_Model()\n",
    "game_model.set_training(x,y)\n",
    "game_model.calc_model()\n",
    "print game_model.get_model_type()\n",
    "print game_model.get_mse()\n",
    "\n",
    "#Scores in simulated tournament\n",
    "scorer = Scorer(features)\n",
    "scorer.set_variables(slots, seeds, results, game_model)\n",
    "print 'Avg Pts', scorer.score_model()"
   ]
  },
  {
   "cell_type": "code",
   "execution_count": 10,
   "metadata": {
    "collapsed": false
   },
   "outputs": [
    {
     "name": "stdout",
     "output_type": "stream",
     "text": [
      "ridge\n",
      "125.924489696\n",
      "Avg Pts 75.0769230769\n"
     ]
    }
   ],
   "source": [
    "#Creates model\n",
    "game_model = Reg_Model()\n",
    "game_model.set_training(x,y)\n",
    "game_model.calc_model()\n",
    "print game_model.get_model_type()\n",
    "print game_model.get_mse()\n",
    "\n",
    "#Scores in simulated tournament\n",
    "scorer = Scorer(features)\n",
    "scorer.set_variables(slots, seeds, results, game_model)\n",
    "print 'Avg Pts', scorer.score_model()"
   ]
  },
  {
   "cell_type": "code",
   "execution_count": 11,
   "metadata": {
    "collapsed": false
   },
   "outputs": [
    {
     "name": "stdout",
     "output_type": "stream",
     "text": [
      "ridge\n",
      "127.004062045\n",
      "Avg Pts 81.2307692308\n"
     ]
    }
   ],
   "source": [
    "#Creates model with feature selection\n",
    "from sklearn.feature_selection import SelectKBest\n",
    "\n",
    "game_model_f = Reg_Model()\n",
    "game_model_f.set_training(x,y)\n",
    "steps = [('feature_selection', SelectKBest())]\n",
    "params = dict(feature_selection__k=[3,5,10])\n",
    "game_model_f.set_pipeline(steps, params)\n",
    "game_model_f.calc_model()\n",
    "print game_model_f.get_model_type()\n",
    "print game_model_f.get_mse()\n",
    "\n",
    "#Scores in simulated tournament\n",
    "scorer_f = Scorer(features)\n",
    "scorer_f.set_variables(slots, seeds, results, game_model_f)\n",
    "print 'Avg Pts', scorer_f.score_model()"
   ]
  },
  {
   "cell_type": "code",
   "execution_count": 12,
   "metadata": {
    "collapsed": false
   },
   "outputs": [
    {
     "name": "stdout",
     "output_type": "stream",
     "text": [
      "ridge\n",
      "126.173636032\n",
      "Avg Pts 82.4615384615\n"
     ]
    }
   ],
   "source": [
    "#Creates model with scaler and feature selection\n",
    "\n",
    "game_model_fs = Reg_Model()\n",
    "game_model_fs.set_training(x,y)\n",
    "steps = [('scaler', RobustScaler()), ('feature_selection', SelectKBest())]\n",
    "params = dict(feature_selection__k=[3,5,10])\n",
    "game_model_fs.set_pipeline(steps, params)\n",
    "game_model_fs.calc_model()\n",
    "print game_model_fs.get_model_type()\n",
    "print game_model_fs.get_mse()\n",
    "\n",
    "\n",
    "#Scores in simulated tournament\n",
    "scorer_fs = Scorer(features)\n",
    "scorer_fs.set_variables(slots, seeds, results, game_model_fs)\n",
    "print 'Avg Pts', scorer_fs.score_model()"
   ]
  },
  {
   "cell_type": "code",
   "execution_count": 20,
   "metadata": {
    "collapsed": true
   },
   "outputs": [],
   "source": [
    "#Pickles best model, which was ridge with feature selection\n",
    "import pickle\n",
    "fn = os.path.join(proc_path, 'Models', 'model_v2.p')\n",
    "pickle.dump(game_model_fs, open(fn, 'wb'))"
   ]
  },
  {
   "cell_type": "code",
   "execution_count": null,
   "metadata": {
    "collapsed": true
   },
   "outputs": [],
   "source": []
  }
 ],
 "metadata": {
  "kernelspec": {
   "display_name": "Python 2",
   "language": "python",
   "name": "python2"
  },
  "language_info": {
   "codemirror_mode": {
    "name": "ipython",
    "version": 2
   },
   "file_extension": ".py",
   "mimetype": "text/x-python",
   "name": "python",
   "nbconvert_exporter": "python",
   "pygments_lexer": "ipython2",
   "version": "2.7.12"
  }
 },
 "nbformat": 4,
 "nbformat_minor": 0
}
