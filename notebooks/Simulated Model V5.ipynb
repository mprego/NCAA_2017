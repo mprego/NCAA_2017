{
 "cells": [
  {
   "cell_type": "markdown",
   "metadata": {},
   "source": [
    "# Simulated Model V5\n",
    "Model uses monte carlo simulation to find most likely teams at each spot"
   ]
  },
  {
   "cell_type": "code",
   "execution_count": 1,
   "metadata": {
    "collapsed": false
   },
   "outputs": [
    {
     "name": "stderr",
     "output_type": "stream",
     "text": [
      "//anaconda/lib/python2.7/site-packages/pandas/computation/__init__.py:19: UserWarning: The installed version of numexpr 2.4.4 is not supported in pandas and will be not be used\n",
      "\n",
      "  UserWarning)\n"
     ]
    }
   ],
   "source": [
    "#Import packages\n",
    "import pandas as pd\n",
    "import numpy as np\n",
    "import os, sys\n",
    "\n",
    "#Import other files\n",
    "raw_path = os.path.join('..', 'data', 'raw')\n",
    "proc_path = os.path.join('..', 'data', 'processed')\n",
    "sys.path.append(os.path.join('..', 'src'))\n",
    "from model.Log_Model import *\n",
    "from model.Scoring import *\n",
    "from sklearn.preprocessing import RobustScaler\n",
    "from sklearn.feature_selection import SelectKBest\n",
    "\n",
    "%load_ext autoreload\n",
    "%autoreload 2"
   ]
  },
  {
   "cell_type": "code",
   "execution_count": 2,
   "metadata": {
    "collapsed": true
   },
   "outputs": [],
   "source": [
    "#Read in data\n",
    "ss_v1 = pd.read_csv(os.path.join(proc_path, 'scoring_set_v1.csv'))\n",
    "\n",
    "# Reads in data\n",
    "seeds = pd.read_csv(os.path.join(raw_path, 'TourneySeeds.csv'))\n",
    "slots = pd.read_csv(os.path.join(raw_path, 'TourneySlots.csv'))\n",
    "results = pd.read_csv(os.path.join(raw_path, 'TourneyCompactResults.csv'))\n",
    "features = pd.read_csv(os.path.join(proc_path, 'team_features_v2.csv'))\n",
    "\n",
    "seeds = seeds[seeds['Season']>2003]\n",
    "slots = slots[slots['Season']>2003]\n",
    "results = results[results['Season']>2003]"
   ]
  },
  {
   "cell_type": "code",
   "execution_count": 3,
   "metadata": {
    "collapsed": false
   },
   "outputs": [],
   "source": [
    "#Preps file for model\n",
    "x = ss_v1.drop(['Outcome', 'Team_A', 'Team_B'], 1)\n",
    "y = [1 if a>0 else 0 for a in ss_v1['Outcome']]"
   ]
  },
  {
   "cell_type": "code",
   "execution_count": 6,
   "metadata": {
    "collapsed": false
   },
   "outputs": [
    {
     "name": "stdout",
     "output_type": "stream",
     "text": [
      "lr\n",
      "0.692941176471\n"
     ]
    },
    {
     "data": {
      "text/plain": [
       "86.90270104372289"
      ]
     },
     "execution_count": 6,
     "metadata": {},
     "output_type": "execute_result"
    }
   ],
   "source": [
    "#Creates model\n",
    "game_model = Log_Model()\n",
    "game_model.set_training(x,y)\n",
    "game_model.calc_model()\n",
    "print game_model.get_model_type()\n",
    "print game_model.get_acc()\n",
    "\n",
    "#Scores in simulated tournament\n",
    "scorer = Scorer(features)\n",
    "scorer.set_variables(slots, seeds, results, game_model)\n",
    "scorer.score_model(trials=100)"
   ]
  },
  {
   "cell_type": "code",
   "execution_count": null,
   "metadata": {
    "collapsed": true
   },
   "outputs": [],
   "source": [
    "#Not bad, but probably not worth the extra effort"
   ]
  }
 ],
 "metadata": {
  "kernelspec": {
   "display_name": "Python 2",
   "language": "python",
   "name": "python2"
  },
  "language_info": {
   "codemirror_mode": {
    "name": "ipython",
    "version": 2
   },
   "file_extension": ".py",
   "mimetype": "text/x-python",
   "name": "python",
   "nbconvert_exporter": "python",
   "pygments_lexer": "ipython2",
   "version": "2.7.12"
  }
 },
 "nbformat": 4,
 "nbformat_minor": 0
}
