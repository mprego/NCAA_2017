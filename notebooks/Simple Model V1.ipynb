{
 "cells": [
  {
   "cell_type": "markdown",
   "metadata": {},
   "source": [
    "# Simple Model: Version 1\n",
    "Creates a model with variables we have so far"
   ]
  },
  {
   "cell_type": "code",
   "execution_count": 1,
   "metadata": {
    "collapsed": false
   },
   "outputs": [
    {
     "name": "stderr",
     "output_type": "stream",
     "text": [
      "//anaconda/lib/python2.7/site-packages/pandas/computation/__init__.py:19: UserWarning: The installed version of numexpr 2.4.4 is not supported in pandas and will be not be used\n",
      "\n",
      "  UserWarning)\n"
     ]
    }
   ],
   "source": [
    "#Import packages\n",
    "import pandas as pd\n",
    "import numpy as np\n",
    "import os, sys\n",
    "\n",
    "#Import other files\n",
    "raw_path = os.path.join('..', 'data', 'raw')\n",
    "proc_path = os.path.join('..', 'data', 'processed')\n",
    "sys.path.append(os.path.join('..', 'src'))\n",
    "from model.Reg_Model import *"
   ]
  },
  {
   "cell_type": "code",
   "execution_count": 16,
   "metadata": {
    "collapsed": true
   },
   "outputs": [],
   "source": [
    "#Read in data\n",
    "ss_v1 = pd.read_csv(os.path.join(proc_path, 'scoring_set_v1.csv'))\n",
    "ss_v1 = ss_v1[ss_v1['Season']>= 2002]"
   ]
  },
  {
   "cell_type": "code",
   "execution_count": 17,
   "metadata": {
    "collapsed": false
   },
   "outputs": [],
   "source": [
    "#Preps file for model\n",
    "x = ss_v1.drop(['Season', 'Daynum', 'Wscore', 'Lscore', 'Wloc', 'Numot', 'Wteam_Name', 'Lteam_Name', 'Outcome'], 1)\n",
    "y = ss_v1['Outcome']"
   ]
  },
  {
   "cell_type": "code",
   "execution_count": 18,
   "metadata": {
    "collapsed": false
   },
   "outputs": [
    {
     "name": "stdout",
     "output_type": "stream",
     "text": [
      "ridge\n",
      "62.1200002864\n"
     ]
    }
   ],
   "source": [
    "#Creates model\n",
    "game_model = Reg_Model()\n",
    "game_model.set_training(x,y)\n",
    "game_model.calc_model()\n",
    "print game_model.get_model_type()\n",
    "print game_model.get_mse()"
   ]
  },
  {
   "cell_type": "code",
   "execution_count": 19,
   "metadata": {
    "collapsed": true
   },
   "outputs": [],
   "source": [
    "#Pickles model\n",
    "import pickle\n",
    "fn = os.path.join(proc_path, 'Models', 'model_v1.p')\n",
    "pickle.dump(game_model, open(fn, 'wb'))"
   ]
  },
  {
   "cell_type": "code",
   "execution_count": 11,
   "metadata": {
    "collapsed": false
   },
   "outputs": [
    {
     "name": "stdout",
     "output_type": "stream",
     "text": [
      "ridge\n",
      "61.083591945\n"
     ]
    }
   ],
   "source": [
    "#Creates model with scaling\n",
    "from sklearn.preprocessing import RobustScaler\n",
    "\n",
    "game_model_s = Reg_Model()\n",
    "game_model_s.set_training(x,y)\n",
    "game_model_s.set_pipeline([('scaler', RobustScaler())], None)\n",
    "game_model_s.calc_model()\n",
    "print game_model_s.get_model_type()\n",
    "print game_model_s.get_mse()"
   ]
  },
  {
   "cell_type": "code",
   "execution_count": 6,
   "metadata": {
    "collapsed": false
   },
   "outputs": [
    {
     "name": "stdout",
     "output_type": "stream",
     "text": [
      "ridge\n",
      "61.5984935172\n"
     ]
    }
   ],
   "source": [
    "#Creates model with feature selection\n",
    "from sklearn.feature_selection import SelectKBest\n",
    "\n",
    "game_model_s = Reg_Model()\n",
    "game_model_s.set_training(x,y)\n",
    "steps = [('feature_selection', SelectKBest())]\n",
    "params = dict(feature_selection__k=[3,5,10])\n",
    "game_model_s.set_pipeline(steps, params)\n",
    "game_model_s.calc_model()\n",
    "print game_model_s.get_model_type()\n",
    "print game_model_s.get_mse()"
   ]
  },
  {
   "cell_type": "code",
   "execution_count": 7,
   "metadata": {
    "collapsed": false
   },
   "outputs": [
    {
     "name": "stdout",
     "output_type": "stream",
     "text": [
      "ridge\n",
      "61.6409599886\n"
     ]
    }
   ],
   "source": [
    "#Creates model with scaler and feature selection\n",
    "from sklearn.feature_selection import SelectKBest\n",
    "\n",
    "game_model_s = Reg_Model()\n",
    "game_model_s.set_training(x,y)\n",
    "steps = [('scaler', RobustScaler()), ('feature_selection', SelectKBest())]\n",
    "params = dict(feature_selection__k=[3,5,10])\n",
    "game_model_s.set_pipeline(steps, params)\n",
    "game_model_s.calc_model()\n",
    "print game_model_s.get_model_type()\n",
    "print game_model_s.get_mse()"
   ]
  },
  {
   "cell_type": "code",
   "execution_count": null,
   "metadata": {
    "collapsed": true
   },
   "outputs": [],
   "source": [
    "#Conclusion, scale, but don't bother with feature selection\n",
    "#Next, try to combine features, maybe into clusters"
   ]
  }
 ],
 "metadata": {
  "kernelspec": {
   "display_name": "Python 2",
   "language": "python",
   "name": "python2"
  },
  "language_info": {
   "codemirror_mode": {
    "name": "ipython",
    "version": 2
   },
   "file_extension": ".py",
   "mimetype": "text/x-python",
   "name": "python",
   "nbconvert_exporter": "python",
   "pygments_lexer": "ipython2",
   "version": "2.7.12"
  }
 },
 "nbformat": 4,
 "nbformat_minor": 0
}
