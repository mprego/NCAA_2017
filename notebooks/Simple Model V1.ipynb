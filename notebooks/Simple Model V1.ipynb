{
 "cells": [
  {
   "cell_type": "markdown",
   "metadata": {},
   "source": [
    "# Simple Model: Version 1\n",
    "Creates a model with variables we have so far"
   ]
  },
  {
   "cell_type": "code",
   "execution_count": 1,
   "metadata": {
    "collapsed": false
   },
   "outputs": [
    {
     "name": "stderr",
     "output_type": "stream",
     "text": [
      "//anaconda/lib/python2.7/site-packages/pandas/computation/__init__.py:19: UserWarning: The installed version of numexpr 2.4.4 is not supported in pandas and will be not be used\n",
      "\n",
      "  UserWarning)\n"
     ]
    }
   ],
   "source": [
    "#Import packages\n",
    "import pandas as pd\n",
    "import numpy as np\n",
    "import os, sys\n",
    "\n",
    "#Import other files\n",
    "raw_path = os.path.join('..', 'data', 'raw')\n",
    "proc_path = os.path.join('..', 'data', 'processed')\n",
    "sys.path.append(os.path.join('..', 'src'))\n",
    "from model.Reg_Model import *\n",
    "from model.Scoring import *\n",
    "%load_ext autoreload\n",
    "%autoreload 2"
   ]
  },
  {
   "cell_type": "code",
   "execution_count": 2,
   "metadata": {
    "collapsed": false
   },
   "outputs": [],
   "source": [
    "#Read in data\n",
    "ss_v1 = pd.read_csv(os.path.join(proc_path, 'scoring_set_v1.csv'))\n",
    "\n",
    "# Reads in data\n",
    "seeds = pd.read_csv(os.path.join(raw_path, 'TourneySeeds.csv'))\n",
    "slots = pd.read_csv(os.path.join(raw_path, 'TourneySlots.csv'))\n",
    "results = pd.read_csv(os.path.join(raw_path, 'TourneyCompactResults.csv'))\n",
    "\n",
    "slots = slots[slots['Season']>2003]\n",
    "features = pd.read_csv(os.path.join(proc_path, 'team_features.csv'))"
   ]
  },
  {
   "cell_type": "code",
   "execution_count": 3,
   "metadata": {
    "collapsed": false
   },
   "outputs": [],
   "source": [
    "#Preps file for model\n",
    "x = ss_v1.drop(['Outcome', 'Team_A', 'Team_B'], 1)\n",
    "y = ss_v1['Outcome']"
   ]
  },
  {
   "cell_type": "code",
   "execution_count": 4,
   "metadata": {
    "collapsed": false
   },
   "outputs": [
    {
     "name": "stdout",
     "output_type": "stream",
     "text": [
      "ridge\n",
      "MSE 125.439718043\n",
      "Avg Pts 77.2307692308\n"
     ]
    }
   ],
   "source": [
    "#Creates model\n",
    "game_model = Reg_Model()\n",
    "game_model.set_training(x,y)\n",
    "game_model.calc_model()\n",
    "print game_model.get_model_type()\n",
    "print 'MSE', game_model.get_mse()\n",
    "\n",
    "#Scores in simulated tournament\n",
    "scorer = Scorer(features)\n",
    "scorer.set_variables(slots, seeds, results, game_model)\n",
    "print 'Avg Pts', scorer.score_model()"
   ]
  },
  {
   "cell_type": "code",
   "execution_count": 5,
   "metadata": {
    "collapsed": false
   },
   "outputs": [
    {
     "name": "stdout",
     "output_type": "stream",
     "text": [
      "ridge\n",
      "125.003619922\n",
      "Avg Pts 77.2307692308\n"
     ]
    }
   ],
   "source": [
    "#Creates model with scaling\n",
    "from sklearn.preprocessing import RobustScaler\n",
    "\n",
    "game_model_s = Reg_Model()\n",
    "game_model_s.set_training(x,y)\n",
    "game_model_s.set_pipeline([('scaler', RobustScaler())], None)\n",
    "game_model_s.calc_model()\n",
    "print game_model_s.get_model_type()\n",
    "print game_model_s.get_mse()\n",
    "\n",
    "\n",
    "#Scores in simulated tournament\n",
    "scorer_s = Scorer(features)\n",
    "scorer_s.set_variables(slots, seeds, results, game_model_s)\n",
    "\n",
    "print 'Avg Pts', scorer_s.score_model()"
   ]
  },
  {
   "cell_type": "code",
   "execution_count": 6,
   "metadata": {
    "collapsed": false
   },
   "outputs": [
    {
     "name": "stdout",
     "output_type": "stream",
     "text": [
      "ridge\n",
      "125.785204267\n",
      "Avg Pts 75.1538461538\n"
     ]
    }
   ],
   "source": [
    "#Creates model with feature selection\n",
    "from sklearn.feature_selection import SelectKBest\n",
    "\n",
    "game_model_f = Reg_Model()\n",
    "game_model_f.set_training(x,y)\n",
    "steps = [('feature_selection', SelectKBest())]\n",
    "params = dict(feature_selection__k=[3,5,10])\n",
    "game_model_f.set_pipeline(steps, params)\n",
    "game_model_f.calc_model()\n",
    "print game_model_f.get_model_type()\n",
    "print game_model_f.get_mse()\n",
    "\n",
    "\n",
    "#Scores in simulated tournament\n",
    "scorer_f = Scorer(features)\n",
    "scorer_f.set_variables(slots, seeds, results, game_model_f)\n",
    "print 'Avg Pts', scorer_f.score_model()"
   ]
  },
  {
   "cell_type": "code",
   "execution_count": 7,
   "metadata": {
    "collapsed": false
   },
   "outputs": [
    {
     "name": "stdout",
     "output_type": "stream",
     "text": [
      "ridge\n",
      "125.611593672\n",
      "Avg Pts 73.9230769231\n"
     ]
    }
   ],
   "source": [
    "#Creates model with scaler and feature selection\n",
    "from sklearn.feature_selection import SelectKBest\n",
    "\n",
    "game_model_fs = Reg_Model()\n",
    "game_model_fs.set_training(x,y)\n",
    "steps = [('scaler', RobustScaler()), ('feature_selection', SelectKBest())]\n",
    "params = dict(feature_selection__k=[3,5,10])\n",
    "game_model_fs.set_pipeline(steps, params)\n",
    "game_model_fs.calc_model()\n",
    "print game_model_fs.get_model_type()\n",
    "print game_model_fs.get_mse()\n",
    "\n",
    "\n",
    "#Scores in simulated tournament\n",
    "scorer_fs = Scorer(features)\n",
    "scorer_fs.set_variables(slots, seeds, results, game_model_fs)\n",
    "print 'Avg Pts', scorer_fs.score_model()"
   ]
  },
  {
   "cell_type": "code",
   "execution_count": 8,
   "metadata": {
    "collapsed": true
   },
   "outputs": [],
   "source": [
    "#Pickles best model, which was ridge with featre selection\n",
    "import pickle\n",
    "fn = os.path.join(proc_path, 'Models', 'model_v1.p')\n",
    "pickle.dump(game_model_f, open(fn, 'wb'))"
   ]
  }
 ],
 "metadata": {
  "kernelspec": {
   "display_name": "Python 2",
   "language": "python",
   "name": "python2"
  },
  "language_info": {
   "codemirror_mode": {
    "name": "ipython",
    "version": 2
   },
   "file_extension": ".py",
   "mimetype": "text/x-python",
   "name": "python",
   "nbconvert_exporter": "python",
   "pygments_lexer": "ipython2",
   "version": "2.7.12"
  }
 },
 "nbformat": 4,
 "nbformat_minor": 0
}
